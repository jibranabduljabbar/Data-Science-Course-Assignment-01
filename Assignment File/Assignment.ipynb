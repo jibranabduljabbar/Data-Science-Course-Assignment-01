{
 "cells": [
  {
   "cell_type": "code",
   "execution_count": 5,
   "id": "3884aaa8",
   "metadata": {},
   "outputs": [
    {
     "name": "stdout",
     "output_type": "stream",
     "text": [
      "Twinkle, twinkle, little star,\n",
      "         How I wonder what you are!\n",
      "                 Up above the world so high,\n",
      "                 Like a diamond in the sky.\n",
      "Twinkle, twinkle, little star,\n",
      "         How I wonder what you are \n",
      "\n",
      "\n",
      "\n",
      "\n",
      "\n",
      "Twinkle, twinkle, little star, \n",
      "         How I wonder what you are! \n",
      "                 Up above the world so high, \n",
      "                 Like a diamond in the sky. \n",
      "Twinkle, twinkle, little star, \n",
      "         How I wonder what you are\n"
     ]
    }
   ],
   "source": [
    "# Task: 01\n",
    "\n",
    "# First Option:\n",
    "\n",
    "print(\"Twinkle, twinkle, little star,\");\n",
    "print(\"         How I wonder what you are!\");\n",
    "print(\"                 Up above the world so high,\");\n",
    "print(\"                 Like a diamond in the sky.\");\n",
    "print(\"Twinkle, twinkle, little star,\");\n",
    "print(\"         How I wonder what you are\");\n",
    "\n",
    "# This Line Is WOrk The Line Break:\n",
    "\n",
    "print(\"\\n\\n\\n\\n\\n\");\n",
    "\n",
    "# Second Option:\n",
    "\n",
    "print(\"Twinkle, twinkle, little star, \\n         How I wonder what you are! \\n                 Up above the world so high, \\n                 Like a diamond in the sky. \\nTwinkle, twinkle, little star, \\n         How I wonder what you are\");"
   ]
  },
  {
   "cell_type": "code",
   "execution_count": 1,
   "id": "9118a410",
   "metadata": {},
   "outputs": [
    {
     "name": "stdout",
     "output_type": "stream",
     "text": [
      "Current Python Version : 3.8.8\n"
     ]
    }
   ],
   "source": [
    "# Task: 02\n",
    "\n",
    "from platform import python_version;\n",
    "\n",
    "print(\"Current Python Version : \" + python_version());"
   ]
  },
  {
   "cell_type": "code",
   "execution_count": 4,
   "id": "153d905d",
   "metadata": {},
   "outputs": [
    {
     "name": "stdout",
     "output_type": "stream",
     "text": [
      "Current date and time : \n",
      "2021-12-29 15:46:46\n"
     ]
    }
   ],
   "source": [
    "# Task: 03\n",
    "\n",
    "import datetime;\n",
    "now = datetime.datetime.now();\n",
    "print (\"Current date and time : \");\n",
    "print (now.strftime(\"%Y-%m-%d %H:%M:%S\"));"
   ]
  },
  {
   "cell_type": "code",
   "execution_count": 5,
   "id": "b15e4011",
   "metadata": {},
   "outputs": [
    {
     "name": "stdout",
     "output_type": "stream",
     "text": [
      "Input the radius of the circle : 34\n",
      "The area of the circle with radius 34.0 is: 3631.681107549801\n"
     ]
    }
   ],
   "source": [
    "# Task: 04\n",
    "\n",
    "from math import pi;\n",
    "r = float(input (\"Input the radius of the circle : \"));\n",
    "print (\"The area of the circle with radius \" + str(r) + \" is: \" + str(pi * r**2));"
   ]
  },
  {
   "cell_type": "code",
   "execution_count": 9,
   "id": "735b8a86",
   "metadata": {},
   "outputs": [
    {
     "name": "stdout",
     "output_type": "stream",
     "text": [
      "Enter Your First Name: Mark\n",
      "Enter Your Last Name: Ace\n",
      "Full Name: Ace Mark\n"
     ]
    }
   ],
   "source": [
    "# Task: 05\n",
    "\n",
    "first_name = input(\"Enter Your First Name: \");\n",
    "last_name = input(\"Enter Your Last Name: \");\n",
    "full_name = last_name + \" \" + first_name; \n",
    "\n",
    "print(\"Full Name: \" + full_name);"
   ]
  },
  {
   "cell_type": "code",
   "execution_count": 24,
   "id": "4dbbb6f9",
   "metadata": {},
   "outputs": [
    {
     "name": "stdout",
     "output_type": "stream",
     "text": [
      "Enter Your First Value: Mark\n",
      "Enter Your Last Value: Ace\n",
      "Full Value: Mark Ace\n",
      "\n",
      "\n",
      "\n",
      "Enter Your First Value: 5\n",
      "Enter Your Last Value: 4\n",
      "Full Value:  9\n"
     ]
    }
   ],
   "source": [
    "# Task: 06\n",
    "\n",
    "# First Option ( This option is used to addition string value. ): \n",
    "\n",
    "first_Val = input(\"Enter Your First Value: \");\n",
    "last_Val = input(\"Enter Your Last Value: \");\n",
    "full_Val = first_Val + \" \" + last_Val;\n",
    "print(\"Full Value: \" + full_Val);\n",
    "\n",
    "# This Line Is WOrk The Line Break:\n",
    "\n",
    "print(\"\\n\\n\");\n",
    "               \n",
    "# Second Option ( This option is used to addition numeric value. (Mathematically) ): \n",
    "    \n",
    "first_Val = int(input(\"Enter Your First Value: \"));\n",
    "last_Val = int(input(\"Enter Your Last Value: \"));\n",
    "full_Val = first_Val + last_Val;\n",
    "print(\"Full Value: \", full_Val);"
   ]
  }
 ],
 "metadata": {
  "kernelspec": {
   "display_name": "Python 3",
   "language": "python",
   "name": "python3"
  },
  "language_info": {
   "codemirror_mode": {
    "name": "ipython",
    "version": 3
   },
   "file_extension": ".py",
   "mimetype": "text/x-python",
   "name": "python",
   "nbconvert_exporter": "python",
   "pygments_lexer": "ipython3",
   "version": "3.8.8"
  }
 },
 "nbformat": 4,
 "nbformat_minor": 5
}
